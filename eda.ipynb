{
 "cells": [
  {
   "cell_type": "markdown",
   "metadata": {},
   "source": [
    "## Exploratory Data Analysis: how many classes, how many examples per class, word distribution (e.g. TF-IDF), etc. Documentation of our analysis with proper visualizations.\n"
   ]
  },
  {
   "cell_type": "markdown",
   "metadata": {},
   "source": [
    "### Merge seperate files provided inside train, test and validation together to create files we are going to use on the models"
   ]
  },
  {
   "cell_type": "code",
   "execution_count": 145,
   "metadata": {},
   "outputs": [],
   "source": [
    "import os\n",
    "import pandas as pd\n",
    "\n",
    "# TRAIN\n",
    "# check if train_final.csv exists and delete it if it does\n",
    "if os.path.exists(\"data/train/train_final.csv\"):\n",
    "    os.remove(\"data/train/train_final.csv\")\n",
    "# Get all files in the Train folder\n",
    "files_train = os.listdir(\"data/train\")\n",
    "# Load all files and concatenate them\n",
    "dfs = [pd.read_csv(f\"data/train/{file}\") for file in files_train]\n",
    "data_train = pd.concat(dfs)\n",
    "# Save the concatenated data\n",
    "data_train.to_csv(\"data/train/train_final.csv\", index=False)\n",
    "\n",
    "# TEST\n",
    "# check if test_final.csv exists and delete it if it does\n",
    "if os.path.exists(\"data/test/test_final.csv\"):\n",
    "    os.remove(\"data/test/test_final.csv\")\n",
    "# Get all files in the Test folder\n",
    "files_test = os.listdir(\"data/test\")\n",
    "# Load all files and concatenate them\n",
    "dfs2 = [pd.read_csv(f\"data/test/{file}\") for file in files_test]\n",
    "data_test = pd.concat(dfs2)\n",
    "# Save the concatenated data\n",
    "data_test.to_csv(\"data/test/test_final.csv\", index=False)\n",
    "\n",
    "# VALIDATION\n",
    "# check if validation_final.csv exists and delete it if it does\n",
    "if os.path.exists(\"data/validation/validation_final.csv\"):\n",
    "    os.remove(\"data/validation/validation_final.csv\")\n",
    "# Get all files in the Validation folder\n",
    "files_validation = os.listdir(\"data/validation\")\n",
    "# Load all files and concatenate them\n",
    "dfs3 = [pd.read_csv(f\"data/validation/{file}\") for file in files_validation]\n",
    "data_validation = pd.concat(dfs3)\n",
    "# Save the concatenated data\n",
    "data_validation.to_csv(\"data/validation/validation_final.csv\", index=False)\n",
    "\n",
    "# MERGED\n",
    "# check if merged.csv exists and delete it if it does\n",
    "if os.path.exists(\"data/merged/merged.csv\"):\n",
    "    os.remove(\"data/merged/merged.csv\")\n",
    "# Load all files and concatenate them\n",
    "dfs4 = [data_train, data_test, data_validation]\n",
    "data_merged = pd.concat(dfs4)\n",
    "# Save the concatenated data\n",
    "data_merged.to_csv(\"data/merged/merged.csv\", index=False)"
   ]
  },
  {
   "cell_type": "markdown",
   "metadata": {},
   "source": [
    "### Represent data visually"
   ]
  },
  {
   "cell_type": "code",
   "execution_count": 146,
   "metadata": {},
   "outputs": [
    {
     "name": "stderr",
     "output_type": "stream",
     "text": [
      "C:\\Users\\franc\\AppData\\Local\\Temp\\ipykernel_2664\\2833509173.py:17: FutureWarning: Styler.applymap has been deprecated. Use Styler.map instead.\n",
      "  styled_df = data.head(10).style.applymap(highlight_labels, subset=['label'])\n"
     ]
    },
    {
     "data": {
      "text/html": [
       "<style type=\"text/css\">\n",
       "#T_84bfb_row0_col1, #T_84bfb_row2_col1, #T_84bfb_row7_col1, #T_84bfb_row8_col1 {\n",
       "  background-color: lightgray;\n",
       "  color: black;\n",
       "}\n",
       "#T_84bfb_row1_col1, #T_84bfb_row5_col1 {\n",
       "  background-color: green;\n",
       "  color: black;\n",
       "}\n",
       "#T_84bfb_row3_col1, #T_84bfb_row4_col1, #T_84bfb_row9_col1 {\n",
       "  background-color: lightgreen;\n",
       "  color: black;\n",
       "}\n",
       "#T_84bfb_row6_col1 {\n",
       "  background-color: red;\n",
       "  color: black;\n",
       "}\n",
       "</style>\n",
       "<table id=\"T_84bfb\">\n",
       "  <thead>\n",
       "    <tr>\n",
       "      <th class=\"blank level0\" >&nbsp;</th>\n",
       "      <th id=\"T_84bfb_level0_col0\" class=\"col_heading level0 col0\" >text</th>\n",
       "      <th id=\"T_84bfb_level0_col1\" class=\"col_heading level0 col1\" >label</th>\n",
       "      <th id=\"T_84bfb_level0_col2\" class=\"col_heading level0 col2\" >source</th>\n",
       "      <th id=\"T_84bfb_level0_col3\" class=\"col_heading level0 col3\" >reasoning</th>\n",
       "    </tr>\n",
       "  </thead>\n",
       "  <tbody>\n",
       "    <tr>\n",
       "      <th id=\"T_84bfb_level0_row0\" class=\"row_heading level0 row0\" >0</th>\n",
       "      <td id=\"T_84bfb_row0_col0\" class=\"data row0 col0\" >Your flight has been rescheduled for 10:00 AM tomorrow. Please check the airport's website for any updates or changes.</td>\n",
       "      <td id=\"T_84bfb_row0_col1\" class=\"data row0 col1\" >neutral</td>\n",
       "      <td id=\"T_84bfb_row0_col2\" class=\"data row0 col2\" >meta-llama/Meta-Llama-3.1-8B-Instruct</td>\n",
       "      <td id=\"T_84bfb_row0_col3\" class=\"data row0 col3\" >This text would be classified as \"neutral\" because it provides factual information about the flight reschedule without any emotional undertones or attempts at politeness. The tone is impersonal and focused solely on conveying the necessary details.</td>\n",
       "    </tr>\n",
       "    <tr>\n",
       "      <th id=\"T_84bfb_level0_row1\" class=\"row_heading level0 row1\" >1</th>\n",
       "      <td id=\"T_84bfb_row1_col0\" class=\"data row1 col0\" >We're happy to accommodate your dietary preferences. Our vegetarian options are carefully crafted to ensure a delicious and satisfying meal. Would you like me to recommend some dishes that fit your needs?</td>\n",
       "      <td id=\"T_84bfb_row1_col1\" class=\"data row1 col1\" >polite</td>\n",
       "      <td id=\"T_84bfb_row1_col2\" class=\"data row1 col2\" >meta-llama/Meta-Llama-3.1-8B-Instruct</td>\n",
       "      <td id=\"T_84bfb_row1_col3\" class=\"data row1 col3\" >This text is polite because it expresses gratitude for the customer's dietary preferences and acknowledges their importance. The use of phrases like \"We're happy to accommodate\" and \"Would you like me to recommend\" shows a welcoming tone and a willingness to help, making the customer feel valued and supported.</td>\n",
       "    </tr>\n",
       "    <tr>\n",
       "      <th id=\"T_84bfb_level0_row2\" class=\"row_heading level0 row2\" >2</th>\n",
       "      <td id=\"T_84bfb_row2_col0\" class=\"data row2 col0\" >Our vegetarian options are available on the menu, and our chef can modify any dish to suit your dietary needs.</td>\n",
       "      <td id=\"T_84bfb_row2_col1\" class=\"data row2 col1\" >neutral</td>\n",
       "      <td id=\"T_84bfb_row2_col2\" class=\"data row2 col2\" >meta-llama/Meta-Llama-3.1-8B-Instruct</td>\n",
       "      <td id=\"T_84bfb_row2_col3\" class=\"data row2 col3\" >This text would be classified as \"neutral\" because it provides factual information about the menu options without expressing any emotional tone or attempting to persuade the customer. The language is straightforward, and the tone is impersonal, focusing solely on conveying the necessary information.</td>\n",
       "    </tr>\n",
       "    <tr>\n",
       "      <th id=\"T_84bfb_level0_row3\" class=\"row_heading level0 row3\" >3</th>\n",
       "      <td id=\"T_84bfb_row3_col0\" class=\"data row3 col0\" >I understand your frustration with the recent tournament results, and I'll review the standings to see what we can do to improve your experience.</td>\n",
       "      <td id=\"T_84bfb_row3_col1\" class=\"data row3 col1\" >somewhat polite</td>\n",
       "      <td id=\"T_84bfb_row3_col2\" class=\"data row3 col2\" >meta-llama/Meta-Llama-3.1-8B-Instruct</td>\n",
       "      <td id=\"T_84bfb_row3_col3\" class=\"data row3 col3\" >This text would be classified as \"somewhat polite.\"\n",
       "The acknowledgment of the customer's frustration shows a basic level of respect.\n",
       "The sentence is direct and lacks additional warmth or formality, but it communicates a willingness to help and review the situation.\n",
       "The use of \"I'll review\" is a straightforward commitment to action without additional courteous phrases that would make it fully polite.</td>\n",
       "    </tr>\n",
       "    <tr>\n",
       "      <th id=\"T_84bfb_level0_row4\" class=\"row_heading level0 row4\" >4</th>\n",
       "      <td id=\"T_84bfb_row4_col0\" class=\"data row4 col0\" >I'll do my best to find a suitable replacement for the item you're looking for, but I need to know more about what you're looking for.</td>\n",
       "      <td id=\"T_84bfb_row4_col1\" class=\"data row4 col1\" >somewhat polite</td>\n",
       "      <td id=\"T_84bfb_row4_col2\" class=\"data row4 col2\" >meta-llama/Meta-Llama-3.1-8B-Instruct</td>\n",
       "      <td id=\"T_84bfb_row4_col3\" class=\"data row4 col3\" >This text would be classified as \"somewhat polite.\" The acknowledgment of the customer's request and the commitment to help (\"I'll do my best\") show a basic level of respect. However, the sentence is direct and lacks additional warmth or formality, and the phrase \"but I need to know more about what you're looking for\" comes across as somewhat curt, preventing it from being fully polite.</td>\n",
       "    </tr>\n",
       "    <tr>\n",
       "      <th id=\"T_84bfb_level0_row5\" class=\"row_heading level0 row5\" >5</th>\n",
       "      <td id=\"T_84bfb_row5_col0\" class=\"data row5 col0\" >We're delighted to have you visit our zoo today! Our animal enclosures are designed to provide a safe and immersive experience for both our visitors and the animals. If you have any questions or need assistance, please don't hesitate to ask our friendly staff.</td>\n",
       "      <td id=\"T_84bfb_row5_col1\" class=\"data row5 col1\" >polite</td>\n",
       "      <td id=\"T_84bfb_row5_col2\" class=\"data row5 col2\" >meta-llama/Meta-Llama-3.1-8B-Instruct</td>\n",
       "      <td id=\"T_84bfb_row5_col3\" class=\"data row5 col3\" >This text is polite because it expresses enthusiasm and welcomes the visitor to the zoo. The language used is considerate and shows respect for the visitor's experience. The phrase \"Our friendly staff\" emphasizes the zoo's commitment to providing a positive and helpful experience, further enhancing the visitor's visit.</td>\n",
       "    </tr>\n",
       "    <tr>\n",
       "      <th id=\"T_84bfb_level0_row6\" class=\"row_heading level0 row6\" >6</th>\n",
       "      <td id=\"T_84bfb_row6_col0\" class=\"data row6 col0\" >Are you seriously complaining about the size of your shirt? It's right there on the label. You should have read it before buying.</td>\n",
       "      <td id=\"T_84bfb_row6_col1\" class=\"data row6 col1\" >impolite</td>\n",
       "      <td id=\"T_84bfb_row6_col2\" class=\"data row6 col2\" >meta-llama/Meta-Llama-3.1-8B-Instruct</td>\n",
       "      <td id=\"T_84bfb_row6_col3\" class=\"data row6 col3\" >This text is impolite due to its dismissive and condescending tone, as well as its use of a rhetorical question to belittle the customer's concern. The phrase \"You should have read it before buying\" comes across as accusatory and unhelpful, failing to address the customer's issue in a constructive manner.</td>\n",
       "    </tr>\n",
       "    <tr>\n",
       "      <th id=\"T_84bfb_level0_row7\" class=\"row_heading level0 row7\" >7</th>\n",
       "      <td id=\"T_84bfb_row7_col0\" class=\"data row7 col0\" >Prices seem reasonable, no complaints.</td>\n",
       "      <td id=\"T_84bfb_row7_col1\" class=\"data row7 col1\" >neutral</td>\n",
       "      <td id=\"T_84bfb_row7_col2\" class=\"data row7 col2\" >meta-llama/Meta-Llama-3.1-8B-Instruct</td>\n",
       "      <td id=\"T_84bfb_row7_col3\" class=\"data row7 col3\" >This statement is straightforward and factual, without emotional undertones or specific attempts at politeness, making it neutral.</td>\n",
       "    </tr>\n",
       "    <tr>\n",
       "      <th id=\"T_84bfb_level0_row8\" class=\"row_heading level0 row8\" >8</th>\n",
       "      <td id=\"T_84bfb_row8_col0\" class=\"data row8 col0\" >We are currently out of stock for the product you requested. However, we can offer a similar alternative that meets your needs.</td>\n",
       "      <td id=\"T_84bfb_row8_col1\" class=\"data row8 col1\" >neutral</td>\n",
       "      <td id=\"T_84bfb_row8_col2\" class=\"data row8 col2\" >meta-llama/Meta-Llama-3.1-8B-Instruct</td>\n",
       "      <td id=\"T_84bfb_row8_col3\" class=\"data row8 col3\" >This text would be classified as \"neutral\" because it provides factual information about the product's availability without expressing any emotional undertones. The tone is straightforward and impersonal, focusing solely on conveying the necessary information.</td>\n",
       "    </tr>\n",
       "    <tr>\n",
       "      <th id=\"T_84bfb_level0_row9\" class=\"row_heading level0 row9\" >9</th>\n",
       "      <td id=\"T_84bfb_row9_col0\" class=\"data row9 col0\" >It was a decent museum experience, though.</td>\n",
       "      <td id=\"T_84bfb_row9_col1\" class=\"data row9 col1\" >somewhat polite</td>\n",
       "      <td id=\"T_84bfb_row9_col2\" class=\"data row9 col2\" >meta-llama/Meta-Llama-3.1-8B-Instruct</td>\n",
       "      <td id=\"T_84bfb_row9_col3\" class=\"data row9 col3\" >This statement acknowledges the experience in a neutral way (\"decent\") but still offers some mild criticism about the quality, lacking warmth or detailed appreciation that would make it polite.</td>\n",
       "    </tr>\n",
       "  </tbody>\n",
       "</table>\n"
      ],
      "text/plain": [
       "<pandas.io.formats.style.Styler at 0x2a301f5f990>"
      ]
     },
     "execution_count": 146,
     "metadata": {},
     "output_type": "execute_result"
    }
   ],
   "source": [
    "import pandas as pd\n",
    "\n",
    "# Load the data (only train data for now)\n",
    "data = pd.read_csv(\"data/merged/merged.csv\")\n",
    "\n",
    "# Function to color-code labels\n",
    "def highlight_labels(val):\n",
    "    color_map = {\n",
    "        \"polite\": \"green\",\n",
    "        \"somewhat polite\": \"lightgreen\",\n",
    "        \"neutral\": \"lightgray\",\n",
    "        \"impolite\": \"red\"\n",
    "    }\n",
    "    return f\"background-color: {color_map.get(val, 'white')}; color: black\"\n",
    "\n",
    "# Apply styling\n",
    "styled_df = data.head(10).style.applymap(highlight_labels, subset=['label'])\n",
    "\n",
    "# Display the styled DataFrame\n",
    "styled_df"
   ]
  },
  {
   "cell_type": "markdown",
   "metadata": {},
   "source": [
    "### Classes"
   ]
  },
  {
   "cell_type": "code",
   "execution_count": 147,
   "metadata": {},
   "outputs": [
    {
     "name": "stdout",
     "output_type": "stream",
     "text": [
      "label\n",
      "polite             25067\n",
      "neutral            25053\n",
      "somewhat polite    25048\n",
      "impolite           25032\n",
      "Name: count, dtype: int64\n"
     ]
    },
    {
     "data": {
      "image/png": "[encoded data removed]",
      "text/plain": [
       "<Figure size 640x480 with 1 Axes>"
      ]
     },
     "metadata": {},
     "output_type": "display_data"
    }
   ],
   "source": [
    "import matplotlib.pyplot as plt\n",
    "\n",
    "# Get amount of labels in merged data and how many examples of each label\n",
    "label_counts = data['label'].value_counts()\n",
    "print(label_counts)\n",
    "\n",
    "# Plot the amount of examples of each label\n",
    "label_counts.plot(kind='bar', color=['green', 'lightgreen', 'lightgray', 'red'], title='Politeness Labels Amount in Merged Data', ylabel='Amount of Examples', xlabel='Label')\n",
    "# Show the plot\n",
    "plt.show()"
   ]
  }
 ],
 "metadata": {
  "kernelspec": {
   "display_name": "Python 3",
   "language": "python",
   "name": "python3"
  },
  "language_info": {
   "codemirror_mode": {
    "name": "ipython",
    "version": 3
   },
   "file_extension": ".py",
   "mimetype": "text/x-python",
   "name": "python",
   "nbconvert_exporter": "python",
   "pygments_lexer": "ipython3",
   "version": "3.11.8"
  }
 },
 "nbformat": 4,
 "nbformat_minor": 2
}
